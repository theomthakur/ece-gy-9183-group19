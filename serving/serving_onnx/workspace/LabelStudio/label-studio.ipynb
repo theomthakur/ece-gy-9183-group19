{
 "cells": [
  {
   "cell_type": "code",
   "execution_count": 50,
   "id": "61d00548-216c-464d-a090-e6147f91be51",
   "metadata": {},
   "outputs": [],
   "source": [
    "import requests\n",
    "import boto3\n",
    "import os\n",
    "import random\n",
    "import shutil\n",
    "from datetime import datetime, timezone, timedelta\n",
    "from pathlib import Path\n",
    "from label_studio_sdk import Client\n",
    "import zipfile\n",
    "import json"
   ]
  },
  {
   "cell_type": "code",
   "execution_count": 2,
   "id": "e0898408-ac29-41a4-96d0-78c127fe2224",
   "metadata": {},
   "outputs": [],
   "source": [
    "LABEL_STUDIO_URL=\"http://label-studio:8080\"\n",
    "LABEL_STUDIO_TOKEN=\"ab9927067c51ff279d340d7321e4890dc2841c4a\"\n",
    "MINIO_URL=\"http://129.114.26.168:9000\"\n",
    "MINIO_ACCESS_KEY =\"PROSadmin19\"\n",
    "MINIO_SECRET_KEY = MINIO_ROOT_PASSWORD=\"PROSadmin19\"\n",
    "BUCKET_NAME = \"production\""
   ]
  },
  {
   "cell_type": "code",
   "execution_count": 5,
   "id": "2bdaa0ea-5276-4447-96ea-9f90256d9700",
   "metadata": {},
   "outputs": [
    {
     "data": {
      "text/plain": [
       "{'type': 's3',\n",
       " 'title': 'MinIO',\n",
       " 'bucket': 'production',\n",
       " 'aws_access_key_id': 'PROSadmin19',\n",
       " 'aws_secret_access_key': 'PROSadmin19',\n",
       " 'endpoint_url': 'http://129.114.26.168:9000',\n",
       " 'recursive_scan': True,\n",
       " 'treat_every_object_as_file': True}"
      ]
     },
     "execution_count": 5,
     "metadata": {},
     "output_type": "execute_result"
    }
   ],
   "source": [
    "# Connect project to MinIO storage\n",
    "storage_config = {\n",
    "    # \"project\": PROJECT_ID,\n",
    "    \"type\": \"s3\",\n",
    "    \"title\": \"MinIO\",\n",
    "    \"bucket\": BUCKET_NAME,\n",
    "    \"aws_access_key_id\": MINIO_ACCESS_KEY,\n",
    "    \"aws_secret_access_key\": MINIO_SECRET_KEY,\n",
    "    \"endpoint_url\": MINIO_URL,  # Using public IP\n",
    "    \"recursive_scan\": True,\n",
    "    \"treat_every_object_as_file\": True\n",
    "}\n",
    "\n",
    "storage_config"
   ]
  },
  {
   "cell_type": "code",
   "execution_count": 6,
   "id": "0e7e2710-1145-4514-8e84-53163f15c31e",
   "metadata": {},
   "outputs": [],
   "source": [
    "# Labeling interface configuration\n",
    "LABEL_CONFIG = \"\"\"\n",
    "<View>\n",
    "  <View style=\"display:flex;align-items:start;gap:8px;flex-direction:column-reverse\">\n",
    "    <Image name=\"image\" value=\"$image\" maxWidth=\"800px\" zoom=\"true\" zoomControl=\"true\"/>\n",
    "      <RectangleLabels name=\"label\" toName=\"image\" showInline=\"true\">\n",
    "        <Label value=\"Aortic enlargement\" background=\"#FF0000\"/>\n",
    "        <Label value=\"Atelectasis\" background=\"#00FF00\"/>\n",
    "        <Label value=\"Calcification\" background=\"#0000FF\"/>\n",
    "        <Label value=\"Cardiomegaly\" background=\"#FFFF00\"/>\n",
    "        <Label value=\"Consolidation\" background=\"#FF00FF\"/>\n",
    "        <Label value=\"ILD\" background=\"#00FFFF\"/>\n",
    "        <Label value=\"Infiltration\" background=\"#FFA500\"/>\n",
    "        <Label value=\"Lung Opacity\" background=\"#800080\"/>\n",
    "        <Label value=\"Nodule/Mass\" background=\"#008000\"/>\n",
    "        <Label value=\"Other lesion\" background=\"#FFC0CB\"/>\n",
    "        <Label value=\"Pleural effusion\" background=\"#A52A2A\"/>\n",
    "        <Label value=\"Pleural thickening\" background=\"#808080\"/>\n",
    "        <Label value=\"Pneumothorax\" background=\"#FFD700\"/>\n",
    "        <Label value=\"Pulmonary fibrosis\" background=\"#4B0082\"/>\n",
    "        <Label value=\"No finding\" background=\"#7FFFD4\"/>\n",
    "      </RectangleLabels></View>\n",
    "  <Header value=\"Model Confidence: $confidence\"/>\n",
    "  <Header value=\"Predicted Class: $predicted_class\"/>\n",
    "\n",
    "</View>\n",
    "\"\"\""
   ]
  },
  {
   "cell_type": "code",
   "execution_count": 7,
   "id": "5bcabb3c-f1ee-429e-83b1-bf9b431b2e04",
   "metadata": {},
   "outputs": [],
   "source": [
    "# LABEL_CONFIG = \"\"\"\n",
    "#     <View>\n",
    "#       <View style=\"display:flex;align-items:start;gap:8px;flex-direction:column-reverse\">\n",
    "#         <Image name=\"image\" value=\"$image\" maxWidth=\"800px\" zoom=\"true\" zoomControl=\"true\"/>\n",
    "#           <RectangleLabels name=\"label\" toName=\"image\" showInline=\"true\">\n",
    "#             <Label value=\"0\" background=\"#FF0000\"/>\n",
    "#             <Label value=\"1\" background=\"#00FF00\"/>\n",
    "#             <Label value=\"2\" background=\"#0000FF\"/>\n",
    "#             <Label value=\"3\" background=\"#FFFF00\"/>\n",
    "#             <Label value=\"4\" background=\"#FF00FF\"/>\n",
    "#             <Label value=\"5\" background=\"#00FFFF\"/>\n",
    "#             <Label value=\"6\" background=\"#FFA500\"/>\n",
    "#             <Label value=\"7\" background=\"#800080\"/>\n",
    "#             <Label value=\"8\" background=\"#008000\"/>\n",
    "#             <Label value=\"9\" background=\"#FFC0CB\"/>\n",
    "#             <Label value=\"10\" background=\"#A52A2A\"/>\n",
    "#             <Label value=\"11\" background=\"#808080\"/>\n",
    "#             <Label value=\"12\" background=\"#FFD700\"/>\n",
    "#             <Label value=\"13\" background=\"#4B0082\"/>\n",
    "#             <Label value=\"14\" background=\"#7FFFD4\"/>\n",
    "#           </RectangleLabels>\n",
    "#       </View>\n",
    "#       <Header value=\"Model Confidence: $confidence\"/>\n",
    "#       <Header value=\"Predicted Class: $predicted_class\"/>\n",
    "#     </View>\n",
    "#     \"\"\""
   ]
  },
  {
   "cell_type": "code",
   "execution_count": 8,
   "id": "1c24b191-1e4e-47d1-a46b-4ca6a570b423",
   "metadata": {},
   "outputs": [],
   "source": [
    "INSTRUCTION = \"\"\"\n",
    "                0 – Aortic enlargement  \n",
    "                1 – Atelectasis  \n",
    "                2 – Calcification  \n",
    "                3 – Cardiomegaly  \n",
    "                4 – Consolidation  \n",
    "                5 – ILD  \n",
    "                6 – Infiltration  \n",
    "                7 – Lung Opacity  \n",
    "                8 – Nodule/Mass  \n",
    "                9 – Other lesion  \n",
    "                10 – Pleural effusion  \n",
    "                11 – Pleural thickening  \n",
    "                12 – Pneumothorax  \n",
    "                13 – Pulmonary fibrosis  \n",
    "                14 – No finding (Provide index 0 0 1 1)\n",
    "            \"\"\""
   ]
  },
  {
   "cell_type": "code",
   "execution_count": 9,
   "id": "f1a9665a-1c22-4759-bf50-f6ba19e04596",
   "metadata": {},
   "outputs": [],
   "source": [
    "# Get the public IP of your VM (needed for pre-signed URLs)\n",
    "\n",
    "# Initialize MinIO client\n",
    "s3 = boto3.client(\n",
    "    \"s3\",\n",
    "    endpoint_url=MINIO_URL,  # Use public IP for external access\n",
    "    aws_access_key_id=MINIO_ACCESS_KEY,\n",
    "    aws_secret_access_key=MINIO_SECRET_KEY,\n",
    "    region_name=\"us-east-1\"\n",
    ")"
   ]
  },
  {
   "cell_type": "markdown",
   "id": "5665f7d3-afa4-414f-ae7c-ee5fce9de8f0",
   "metadata": {},
   "source": [
    "# Create Project - Low Confidence"
   ]
  },
  {
   "cell_type": "code",
   "execution_count": 10,
   "id": "1df359e2-ab5f-4609-8c4b-20eda3949ecb",
   "metadata": {},
   "outputs": [
    {
     "name": "stdout",
     "output_type": "stream",
     "text": [
      "Created project: Chest X-Ray Low Confidence (ID 16)\n"
     ]
    }
   ],
   "source": [
    "# Create the Label Studio project\n",
    "headers = {\"Authorization\": f\"Token {LABEL_STUDIO_TOKEN}\"}\n",
    "project_config = {\n",
    "    \"title\": \"Chest X-Ray Low Confidence\",\n",
    "    \"description\": \"Label chest X-ray images where the model has low confidence\",\n",
    "    \"label_config\": LABEL_CONFIG,\n",
    "    \"expert_instruction\": INSTRUCTION,\n",
    "    \"show_instruction\": True\n",
    "}\n",
    "\n",
    "res = requests.post(f\"{LABEL_STUDIO_URL}/api/projects\", json=project_config, headers=headers)\n",
    "if res.status_code == 201:\n",
    "    LC_PROJECT_ID = res.json()['id']\n",
    "    print(f\"Created project: Chest X-Ray Low Confidence (ID {LC_PROJECT_ID})\")\n",
    "else:\n",
    "    raise Exception(f\"Failed to create project: {res.text}\")"
   ]
  },
  {
   "cell_type": "markdown",
   "id": "0334b0c1-779f-4a28-acd1-340113a6c48c",
   "metadata": {},
   "source": [
    "## Add Low Confidence Images"
   ]
  },
  {
   "cell_type": "code",
   "execution_count": 11,
   "id": "66f9b0f8-5505-4dde-9ebd-49e45fd9fb92",
   "metadata": {},
   "outputs": [
    {
     "name": "stdout",
     "output_type": "stream",
     "text": [
      "Found 28 low-confidence images:\n",
      "{'key': 'class_None/1b5b574f-d15d-4ed0-9cf2-ee773477e833.jpg', 'confidence': '0.000', 'predicted_class': 'None'}\n",
      "{'key': 'class_None/47799a97-3ced-41be-b8a8-b8f345fbdeb1.jpg', 'confidence': '0.000', 'predicted_class': 'None'}\n",
      "{'key': 'class_None/7eb5d4ef-5aa6-4d3e-9a28-ef28c37a1851.jpg', 'confidence': '0.000', 'predicted_class': 'None'}\n",
      "{'key': 'class_None/8ed22671-e8c1-439c-83fa-66075c62acc2.jpg', 'confidence': '0.000', 'predicted_class': 'None'}\n",
      "{'key': 'class_None/ef13153c-9776-441a-8ddc-1e036e26d58e.jpg', 'confidence': '0.000', 'predicted_class': 'None'}\n",
      "{'key': 'class_None/fa919258-9f97-4fac-a01c-3d5e3d9edad3.jpg', 'confidence': '0.000', 'predicted_class': 'None'}\n",
      "{'key': 'class_None/fe670bf2-7e30-479e-ab61-969f72aaf2eb.jpg', 'confidence': '0.000', 'predicted_class': 'None'}\n",
      "{'key': 'class_class10/9d3fa0e5-8f2f-499d-a942-4265b27566f7.jpg', 'confidence': '0.905', 'predicted_class': 'class10'}\n",
      "{'key': 'class_class10/c4fc705b-3370-44fa-b6dc-83c55dd34d9c.jpg', 'confidence': '0.905', 'predicted_class': 'class10'}\n",
      "{'key': 'class_class2/0c82a178-1e9c-4ad6-9adc-bdf350057e8f.jpg', 'confidence': '0.938', 'predicted_class': 'class2'}\n",
      "{'key': 'class_class2/11321aed-459a-4ef0-8751-bf19fabb7082.jpg', 'confidence': '0.938', 'predicted_class': 'class2'}\n",
      "{'key': 'class_class2/1e58ba88-a5bd-4105-a66f-e8ed81e34712.jpg', 'confidence': '0.938', 'predicted_class': 'class2'}\n",
      "{'key': 'class_class2/2ade2866-43d2-4365-a336-184a17b1d13b.jpg', 'confidence': '0.938', 'predicted_class': 'class2'}\n",
      "{'key': 'class_class2/2c21d280-e47a-4a44-bfcd-06d39ecf64d2.jpg', 'confidence': '0.938', 'predicted_class': 'class2'}\n",
      "{'key': 'class_class2/45a94b3a-9902-4324-90a3-698c125291c0.jpg', 'confidence': '0.938', 'predicted_class': 'class2'}\n",
      "{'key': 'class_class2/5f390384-75fe-43c0-a40e-1c481814f98c.jpg', 'confidence': '0.938', 'predicted_class': 'class2'}\n",
      "{'key': 'class_class2/63ae8c21-1d07-444f-8492-e521d7e3937a.jpg', 'confidence': '0.938', 'predicted_class': 'class2'}\n",
      "{'key': 'class_class2/77b8af10-eb02-4fa0-8127-e5a6e504eb9b.jpg', 'confidence': '0.938', 'predicted_class': 'class2'}\n",
      "{'key': 'class_class2/87e4dac7-d5a2-483a-b78b-b43daedd3c0e.jpg', 'confidence': '0.938', 'predicted_class': 'class2'}\n",
      "{'key': 'class_class2/88f0e3ad-801b-413e-aca0-3b7b9bf073b9.jpg', 'confidence': '0.938', 'predicted_class': 'class2'}\n",
      "{'key': 'class_class2/8a873851-ab50-419c-a195-ec2cf0e1baf4.jpg', 'confidence': '0.938', 'predicted_class': 'class2'}\n",
      "{'key': 'class_class2/a0bd165d-4ce4-49c3-a124-7c9ab257b39f.jpg', 'confidence': '0.938', 'predicted_class': 'class2'}\n",
      "{'key': 'class_class2/c05579fa-7474-40dd-afb4-5738c79b31cb.jpg', 'confidence': '0.938', 'predicted_class': 'class2'}\n",
      "{'key': 'class_class2/d1dce5a7-ed62-4a44-8d00-e78b72e3f789.jpg', 'confidence': '0.938', 'predicted_class': 'class2'}\n",
      "{'key': 'class_class2/da899bbd-6ae6-415f-88e7-6cf3577e5384.jpg', 'confidence': '0.938', 'predicted_class': 'class2'}\n",
      "{'key': 'class_class2/db70a466-35fd-43d0-a743-9bd18f79a801.jpg', 'confidence': '0.938', 'predicted_class': 'class2'}\n",
      "{'key': 'class_class2/df2d0522-b588-44d5-a254-f1e16ebfb3cf.jpg', 'confidence': '0.938', 'predicted_class': 'class2'}\n",
      "{'key': 'class_class8/69c7fc27-83de-4b2a-a483-2701ee473a34.jpg', 'confidence': '0.658', 'predicted_class': 'class8'}\n",
      "Imported 28 tasks into project 16\n"
     ]
    }
   ],
   "source": [
    "# Find low-confidence images\n",
    "low_confidence_threshold = 0.95  # Images with confidence below this\n",
    "recent_time_threshold = datetime.now(timezone.utc) - timedelta(hours=72)  # Images from last 72 hours\n",
    "all_keys = []\n",
    "\n",
    "paginator = s3.get_paginator(\"list_objects_v2\")\n",
    "for page in paginator.paginate(Bucket=BUCKET_NAME):\n",
    "    for obj in page.get(\"Contents\", []):\n",
    "        key = obj[\"Key\"]\n",
    "        tags = s3.get_object_tagging(Bucket=BUCKET_NAME, Key=key)['TagSet']\n",
    "        tag_dict = {t['Key']: t['Value'] for t in tags}\n",
    "        timestamp_str = tag_dict.get(\"timestamp\")\n",
    "        confidence_str = tag_dict.get(\"confidence\")\n",
    "        predicted_class = tag_dict.get(\"predicted_class\", \"\")\n",
    "        if timestamp_str and confidence_str:\n",
    "            ts = datetime.fromisoformat(timestamp_str)\n",
    "            confidence = float(confidence_str)\n",
    "            if ts > recent_time_threshold and confidence < low_confidence_threshold:\n",
    "                all_keys.append({\n",
    "                    \"key\": key,\n",
    "                    \"confidence\": confidence_str,\n",
    "                    \"predicted_class\": predicted_class\n",
    "                })\n",
    "\n",
    "# Check if we found any low-confidence images\n",
    "print(f\"Found {len(all_keys)} low-confidence images:\")\n",
    "for item in all_keys:\n",
    "    print(item)\n",
    "\n",
    "# Create Label Studio tasks\n",
    "headers = {\"Authorization\": f\"Token {LABEL_STUDIO_TOKEN}\"}\n",
    "tasks = []\n",
    "for item in all_keys:\n",
    "    key = item[\"key\"]\n",
    "    confidence = item[\"confidence\"]\n",
    "    predicted_class = item[\"predicted_class\"]\n",
    "    presigned_url = s3.generate_presigned_url(\n",
    "        'get_object',\n",
    "        Params={'Bucket': BUCKET_NAME, 'Key': key},\n",
    "        ExpiresIn=3600  # URL valid for 1 hour\n",
    "    )\n",
    "    tasks.append({\n",
    "        \"data\": {\n",
    "            \"image\": presigned_url,\n",
    "            \"confidence\": confidence,\n",
    "            \"predicted_class\": predicted_class\n",
    "        },\n",
    "        \"meta\": {\"original_key\": key}\n",
    "    })\n",
    "\n",
    "# Send tasks to Label Studio\n",
    "res = requests.post(\n",
    "    f\"{LABEL_STUDIO_URL}/api/projects/{LC_PROJECT_ID}/import\",\n",
    "    json=tasks,\n",
    "    headers=headers\n",
    ")\n",
    "if res.status_code == 201:\n",
    "    print(f\"Imported {len(tasks)} tasks into project {LC_PROJECT_ID}\")\n",
    "else:\n",
    "    print(f\"Failed to import tasks: {res.text}\")"
   ]
  },
  {
   "cell_type": "markdown",
   "id": "503f9d1f-f9c4-48a9-8744-1062c22608a9",
   "metadata": {},
   "source": [
    "# Create Project 2 - Feedback Images"
   ]
  },
  {
   "cell_type": "code",
   "execution_count": 12,
   "id": "33fe3769-91f3-4935-ab26-20588a08695a",
   "metadata": {},
   "outputs": [
    {
     "name": "stdout",
     "output_type": "stream",
     "text": [
      "Created project: Chest X-Ray Fedback Images (ID 17)\n"
     ]
    }
   ],
   "source": [
    "# Create the Label Studio project\n",
    "headers = {\"Authorization\": f\"Token {LABEL_STUDIO_TOKEN}\"}\n",
    "project_config = {\n",
    "    \"title\": \"Chest X-Ray Fedback Images\",\n",
    "    \"description\": \"Label chest X-ray images where the model has low confidence\",\n",
    "    \"label_config\": LABEL_CONFIG\n",
    "}\n",
    "\n",
    "res = requests.post(f\"{LABEL_STUDIO_URL}/api/projects\", json=project_config, headers=headers)\n",
    "if res.status_code == 201:\n",
    "    FI_PROJECT_ID = res.json()['id']\n",
    "    print(f\"Created project: Chest X-Ray Fedback Images (ID {FI_PROJECT_ID})\")\n",
    "else:\n",
    "    raise Exception(f\"Failed to create project: {res.text}\")"
   ]
  },
  {
   "cell_type": "markdown",
   "id": "7e50adab-e197-44f3-92f0-d9db062aa7d2",
   "metadata": {},
   "source": [
    "## Add Feedback Images"
   ]
  },
  {
   "cell_type": "code",
   "execution_count": 13,
   "id": "5c197187-f38e-4b85-b594-0b9dcb5d96bb",
   "metadata": {},
   "outputs": [
    {
     "name": "stdout",
     "output_type": "stream",
     "text": [
      "Found 9 flagged images:\n",
      "{'key': 'class_None/ef13153c-9776-441a-8ddc-1e036e26d58e.jpg', 'confidence': '0.000', 'predicted_class': 'None', 'flagged': 'true'}\n",
      "{'key': 'class_None/fe670bf2-7e30-479e-ab61-969f72aaf2eb.jpg', 'confidence': '0.000', 'predicted_class': 'None', 'flagged': 'true'}\n",
      "{'key': 'class_class2/0c82a178-1e9c-4ad6-9adc-bdf350057e8f.jpg', 'confidence': '0.938', 'predicted_class': 'class2', 'flagged': 'true'}\n",
      "{'key': 'class_class2/1e58ba88-a5bd-4105-a66f-e8ed81e34712.jpg', 'confidence': '0.938', 'predicted_class': 'class2', 'flagged': 'true'}\n",
      "{'key': 'class_class2/2c21d280-e47a-4a44-bfcd-06d39ecf64d2.jpg', 'confidence': '0.938', 'predicted_class': 'class2', 'flagged': 'true'}\n",
      "{'key': 'class_class2/5f390384-75fe-43c0-a40e-1c481814f98c.jpg', 'confidence': '0.938', 'predicted_class': 'class2', 'flagged': 'true'}\n",
      "{'key': 'class_class2/87e4dac7-d5a2-483a-b78b-b43daedd3c0e.jpg', 'confidence': '0.938', 'predicted_class': 'class2', 'flagged': 'true'}\n",
      "{'key': 'class_class2/88f0e3ad-801b-413e-aca0-3b7b9bf073b9.jpg', 'confidence': '0.938', 'predicted_class': 'class2', 'flagged': 'true'}\n",
      "{'key': 'class_class2/df2d0522-b588-44d5-a254-f1e16ebfb3cf.jpg', 'confidence': '0.938', 'predicted_class': 'class2', 'flagged': 'true'}\n",
      "Imported 9 tasks into project 17\n"
     ]
    }
   ],
   "source": [
    "# Find flagged images\n",
    "recent_time_threshold = datetime.now(timezone.utc) - timedelta(hours=72)\n",
    "all_keys = []\n",
    "\n",
    "paginator = s3.get_paginator(\"list_objects_v2\")\n",
    "for page in paginator.paginate(Bucket=BUCKET_NAME):\n",
    "    for obj in page.get(\"Contents\", []):\n",
    "        key = obj[\"Key\"]\n",
    "        tags = s3.get_object_tagging(Bucket=BUCKET_NAME, Key=key)['TagSet']\n",
    "        tag_dict = {t['Key']: t['Value'] for t in tags}\n",
    "        timestamp_str = tag_dict.get(\"timestamp\")\n",
    "        flagged = tag_dict.get(\"flagged\") == \"true\"\n",
    "        if timestamp_str and flagged:\n",
    "            ts = datetime.fromisoformat(timestamp_str)\n",
    "            if ts > recent_time_threshold:\n",
    "                all_keys.append({\n",
    "                    \"key\": key,\n",
    "                    \"confidence\": tag_dict.get(\"confidence\", \"\"),\n",
    "                    \"predicted_class\": tag_dict.get(\"predicted_class\", \"\"),\n",
    "                    \"flagged\": tag_dict.get(\"flagged\", \"false\")\n",
    "                })\n",
    "\n",
    "print(f\"Found {len(all_keys)} flagged images:\")\n",
    "for item in all_keys:\n",
    "    print(item)\n",
    "\n",
    "# Create Label Studio tasks\n",
    "headers = {\"Authorization\": f\"Token {LABEL_STUDIO_TOKEN}\"}\n",
    "tasks = []\n",
    "for item in all_keys:\n",
    "    key = item[\"key\"]\n",
    "    confidence = item[\"confidence\"]\n",
    "    predicted_class = item[\"predicted_class\"]\n",
    "    presigned_url = s3.generate_presigned_url(\n",
    "        'get_object',\n",
    "        Params={'Bucket': BUCKET_NAME, 'Key': key},\n",
    "        ExpiresIn=3600\n",
    "    )\n",
    "    tasks.append({\n",
    "        \"data\": {\n",
    "            \"image\": presigned_url,\n",
    "            \"confidence\": confidence,\n",
    "            \"predicted_class\": predicted_class,\n",
    "            \"flagged\": item[\"flagged\"]\n",
    "        },\n",
    "        \"meta\": {\"original_key\": key}\n",
    "    })\n",
    "\n",
    "res = requests.post(\n",
    "    f\"{LABEL_STUDIO_URL}/api/projects/{FI_PROJECT_ID}/import\",\n",
    "    json=tasks,\n",
    "    headers=headers\n",
    ")\n",
    "if res.status_code == 201:\n",
    "    print(f\"Imported {len(tasks)} tasks into project {FI_PROJECT_ID}\")\n",
    "else:\n",
    "    print(f\"Failed to import tasks: {res.text}\")"
   ]
  },
  {
   "cell_type": "markdown",
   "id": "0ec40f14-c0a7-413d-bb3a-8e70bc65f7a1",
   "metadata": {},
   "source": [
    "# Create Class Mappings"
   ]
  },
  {
   "cell_type": "code",
   "execution_count": 29,
   "id": "517b867f-b01b-47d2-8ffb-27a0f0a19de8",
   "metadata": {},
   "outputs": [],
   "source": [
    "YOLO_CLASS_MAPPING = {\n",
    "    'class0': '0',\n",
    "    'class1': '1',\n",
    "    'class2': '2',\n",
    "    'class3': '3',\n",
    "    'class4': '4',\n",
    "    'class5': '5',\n",
    "    'class6': '6',\n",
    "    'class7': '7',\n",
    "    'class8': '8',\n",
    "    'class9': '9',\n",
    "    'class10': '10',\n",
    "    'class11': '11',\n",
    "    'class12': '12',\n",
    "    'class13': '13',\n",
    "    'class14': '14'\n",
    "}"
   ]
  },
  {
   "cell_type": "code",
   "execution_count": 30,
   "id": "6e535b43-b178-4dd9-be04-d0e06b8d7894",
   "metadata": {},
   "outputs": [],
   "source": [
    "LABEL_STUDIO_CLASS_MAPPING = {\n",
    "    'Aortic enlargement': '0',\n",
    "    'Atelectasis': '1',\n",
    "    'Calcification': '2',\n",
    "    'Cardiomegaly': '3',\n",
    "    'Consolidation': '4',\n",
    "    'ILD': '5',\n",
    "    'Infiltration': '6',\n",
    "    'Lung Opacity': '7',\n",
    "    'Nodule/Mass': '8',\n",
    "    'Other lesion': '9',\n",
    "    'Pleural effusion': '10',\n",
    "    'Pleural thickening': '11',\n",
    "    'Pneumothorax': '12',\n",
    "    'Pulmonary fibrosis': '13',\n",
    "    'No finding': 'None'\n",
    "}\n"
   ]
  },
  {
   "cell_type": "code",
   "execution_count": 31,
   "id": "ca4b24b0-71eb-4e8a-b3f3-8c949b1c6bf9",
   "metadata": {},
   "outputs": [],
   "source": [
    "DATA_CLASS_MAPPING = {\n",
    "    '0': 'Aortic enlargement',\n",
    "    '1': 'Atelectasis',\n",
    "    '2': 'Calcification',\n",
    "    '3': 'Cardiomegaly',\n",
    "    '4': 'Consolidation',\n",
    "    '5': 'ILD',\n",
    "    '6': 'Infiltration',\n",
    "    '7': 'Lung Opacity',\n",
    "    '8': 'Nodule/Mass',\n",
    "    '9': 'Other lesion',\n",
    "    '10': 'Pleural effusion',\n",
    "    '11': 'Pleural thickening',\n",
    "    '12': 'Pneumothorax',\n",
    "    '13': 'Pulmonary fibrosis',\n",
    "    '14': 'No finding'\n",
    "}"
   ]
  },
  {
   "cell_type": "markdown",
   "id": "a9f9ff43-fde0-4bee-aef0-2f8a070c6139",
   "metadata": {},
   "source": [
    "# Evaluate Performance - Low Confidence"
   ]
  },
  {
   "cell_type": "code",
   "execution_count": 33,
   "id": "d1b9597a-d47a-4224-87af-50244782d30e",
   "metadata": {
    "scrolled": true
   },
   "outputs": [
    {
     "name": "stdout",
     "output_type": "stream",
     "text": [
      "Image: class_None/1b5b574f-d15d-4ed0-9cf2-ee773477e833.jpg, Human: Atelectasis, Model: None, Correct: False\n",
      "Image: class_None/47799a97-3ced-41be-b8a8-b8f345fbdeb1.jpg, Human: None, Model: None, Correct: True\n",
      "Image: class_None/7eb5d4ef-5aa6-4d3e-9a28-ef28c37a1851.jpg, Human: None, Model: None, Correct: True\n",
      "Image: class_None/8ed22671-e8c1-439c-83fa-66075c62acc2.jpg, Human: None, Model: None, Correct: True\n",
      "Accuracy: 3/4 = 75.00%\n"
     ]
    }
   ],
   "source": [
    "# Get human labels from Label Studio\n",
    "response = requests.get(\n",
    "    f\"{LABEL_STUDIO_URL}/api/projects/{LC_PROJECT_ID}/export?exportType=JSON\",\n",
    "    headers={\"Authorization\": f\"Token {LABEL_STUDIO_TOKEN}\"}\n",
    ")\n",
    "tasks = response.json()\n",
    "\n",
    "# Compare human and model labels\n",
    "total, correct = 0, 0\n",
    "for task in tasks:\n",
    "    # Get human label (first rectanglelabels label)\n",
    "    annotations = task['annotations']\n",
    "    if not annotations or not annotations[0]['result']:\n",
    "        continue  # Skip tasks with no annotations\n",
    "    human_label = annotations[0]['result'][0]['value']['rectanglelabels'][0]\n",
    "    mapped_human_label = LABEL_STUDIO_CLASS_MAPPING.get(human_label, human_label)\n",
    "    \n",
    "    # Get model label from MinIO\n",
    "    key = task['meta']['original_key']\n",
    "    tags = s3.get_object_tagging(Bucket=BUCKET_NAME, Key=key)['TagSet']\n",
    "    tag_dict = {t['Key']: t['Value'] for t in tags}\n",
    "    model_label = tag_dict.get('predicted_class')\n",
    "    \n",
    "    # Map model label to Label Studio label\n",
    "    mapped_model_label = YOLO_CLASS_MAPPING.get(model_label, model_label)\n",
    "    \n",
    "    if mapped_model_label and mapped_human_label:\n",
    "        total += 1\n",
    "        correct += int(mapped_model_label == mapped_human_label)\n",
    "        print(f\"Image: {key}, Human: {DATA_CLASS_MAPPING.get(mapped_human_label,mapped_human_label)}, Model: {DATA_CLASS_MAPPING.get(mapped_model_label,mapped_model_label)}, Correct: {mapped_model_label == mapped_human_label}\")\n",
    "\n",
    "# Print accuracy\n",
    "print(f\"Accuracy: {correct}/{total} = {correct / total:.2%}\" if total else \"No valid comparisons made.\")"
   ]
  },
  {
   "cell_type": "code",
   "execution_count": 22,
   "id": "83ac4101-2673-45a0-bf38-973a1b3950b8",
   "metadata": {},
   "outputs": [],
   "source": [
    "# tasks[0]['annotations'][0]['result'][0]['value']['rectanglelabels'][0]"
   ]
  },
  {
   "cell_type": "markdown",
   "id": "8db193f0-2695-4893-8361-60988ebac17a",
   "metadata": {},
   "source": [
    "# Evaluate Performance - Feedback Images"
   ]
  },
  {
   "cell_type": "code",
   "execution_count": 34,
   "id": "b3eb40ee-1afe-4cee-abb9-a1c93bca1042",
   "metadata": {},
   "outputs": [
    {
     "name": "stdout",
     "output_type": "stream",
     "text": [
      "Image: class_None/ef13153c-9776-441a-8ddc-1e036e26d58e.jpg, Human: None, Model: None, Correct: True\n",
      "Image: class_None/fe670bf2-7e30-479e-ab61-969f72aaf2eb.jpg, Human: None, Model: None, Correct: True\n",
      "Image: class_class2/0c82a178-1e9c-4ad6-9adc-bdf350057e8f.jpg, Human: Atelectasis, Model: Calcification, Correct: False\n",
      "Image: class_class2/1e58ba88-a5bd-4105-a66f-e8ed81e34712.jpg, Human: Pulmonary fibrosis, Model: Calcification, Correct: False\n",
      "Accuracy: 2/4 = 50.00%\n"
     ]
    }
   ],
   "source": [
    "# Get human labels from Label Studio\n",
    "response = requests.get(\n",
    "    f\"{LABEL_STUDIO_URL}/api/projects/{FI_PROJECT_ID}/export?exportType=JSON\",\n",
    "    headers={\"Authorization\": f\"Token {LABEL_STUDIO_TOKEN}\"}\n",
    ")\n",
    "tasks = response.json()\n",
    "\n",
    "# Compare human and model labels\n",
    "total, correct = 0, 0\n",
    "for task in tasks:\n",
    "    # Get human label (first rectanglelabels label)\n",
    "    annotations = task['annotations']\n",
    "    if not annotations or not annotations[0]['result']:\n",
    "        continue  # Skip tasks with no annotations\n",
    "    human_label = annotations[0]['result'][0]['value']['rectanglelabels'][0]\n",
    "    mapped_human_label = LABEL_STUDIO_CLASS_MAPPING.get(human_label, human_label)\n",
    "    \n",
    "    # Get model label from MinIO\n",
    "    key = task['meta']['original_key']\n",
    "    tags = s3.get_object_tagging(Bucket=BUCKET_NAME, Key=key)['TagSet']\n",
    "    tag_dict = {t['Key']: t['Value'] for t in tags}\n",
    "    model_label = tag_dict.get('predicted_class')\n",
    "    \n",
    "    # Map model label to numerical ID\n",
    "    mapped_model_label = YOLO_CLASS_MAPPING.get(model_label, model_label)\n",
    "    \n",
    "    if mapped_model_label and mapped_human_label:\n",
    "        total += 1\n",
    "        correct += int(mapped_model_label == mapped_human_label)\n",
    "        print(f\"Image: {key}, Human: {DATA_CLASS_MAPPING.get(mapped_human_label, mapped_human_label)}, Model: {DATA_CLASS_MAPPING.get(mapped_model_label, mapped_model_label)}, Correct: {mapped_model_label == mapped_human_label}\")\n",
    "\n",
    "# Print accuracy\n",
    "print(f\"Accuracy: {correct}/{total} = {correct / total:.2%}\" if total else \"No valid comparisons made.\")"
   ]
  },
  {
   "cell_type": "markdown",
   "id": "8234aabe-352b-463b-9f32-76ef0107d425",
   "metadata": {},
   "source": [
    "# Export labelled data"
   ]
  },
  {
   "cell_type": "code",
   "execution_count": 42,
   "id": "defe1a2f-0071-4c90-8219-b49c1a23c2d9",
   "metadata": {},
   "outputs": [],
   "source": [
    "LABEL_STUDIO_URL=\"http://label-studio:8080\"\n",
    "LABEL_STUDIO_TOKEN=\"ab9927067c51ff279d340d7321e4890dc2841c4a\"\n",
    "MINIO_URL=\"http://minio:9000\"\n",
    "MINIO_ACCESS_KEY =\"PROSadmin19\"\n",
    "MINIO_SECRET_KEY = \"PROSadmin19\"\n",
    "BUCKET_NAME = \"production\"\n",
    "PUBLIC_IP = \"129.114.26.168\"\n",
    "\n",
    "# Output directory\n",
    "OUTPUT_DIR = \"./extras\"\n",
    "Path(OUTPUT_DIR).mkdir(parents=True, exist_ok=True)\n",
    "\n",
    "# Directory for processing\n",
    "DATA_DIR = \"./data_dir\"\n",
    "Path(DATA_DIR).mkdir(parents=True, exist_ok=True)"
   ]
  },
  {
   "cell_type": "code",
   "execution_count": 47,
   "id": "a2834411-2e24-4541-87fe-9ce042c55d72",
   "metadata": {},
   "outputs": [],
   "source": [
    "PROJECT_ID = 17  # Taking from the feedback \n",
    "EXPORT_TYPE = 'YOLO_WITH_IMAGES'"
   ]
  },
  {
   "cell_type": "code",
   "execution_count": 48,
   "id": "d1011d3c-4184-4d32-836b-22f8fddd9415",
   "metadata": {},
   "outputs": [
    {
     "name": "stdout",
     "output_type": "stream",
     "text": [
      "Status of the export is 200.\n",
      "Original ZIP file path is ./extras/project-17-at-2025-05-12-01-38-d3823db3_aamPsi2.zip\n"
     ]
    }
   ],
   "source": [
    "# Initialize Label Studio client\n",
    "ls = Client(url=LABEL_STUDIO_URL, api_key=LABEL_STUDIO_TOKEN)\n",
    "\n",
    "# Get the project\n",
    "project = ls.get_project(PROJECT_ID)\n",
    "\n",
    "# Create an export snapshot\n",
    "export_result = project.export_snapshot_create(\n",
    "    title='export-test-01',\n",
    "    task_filter_options={\n",
    "        'view': 1,\n",
    "        'finished': 'only',  # include all finished tasks (is_labeled = true)\n",
    "        'annotated': 'only',  # include all tasks with at least one not skipped annotation\n",
    "    }\n",
    ")\n",
    "export_id = export_result['id']\n",
    "\n",
    "# Wait until the snapshot is ready\n",
    "while project.export_snapshot_status(export_id).is_in_progress():\n",
    "    time.sleep(1.0)\n",
    "\n",
    "# Download the snapshot\n",
    "status, zip_file_path = project.export_snapshot_download(\n",
    "    export_id=export_id,\n",
    "    export_type=EXPORT_TYPE,\n",
    "    path=OUTPUT_DIR\n",
    ")\n",
    "zip_file_path = os.path.join(OUTPUT_DIR, zip_file_path)\n",
    "print(f'Status of the export is {status}.\\nOriginal ZIP file path is {zip_file_path}')"
   ]
  },
  {
   "cell_type": "code",
   "execution_count": 51,
   "id": "bbef6f92-b404-47a9-8b62-cfcab19509fe",
   "metadata": {},
   "outputs": [],
   "source": [
    "# Initialize MinIO client\n",
    "s3 = boto3.client(\n",
    "    \"s3\",\n",
    "    endpoint_url=MINIO_URL,\n",
    "    aws_access_key_id=MINIO_ACCESS_KEY,\n",
    "    aws_secret_access_key=MINIO_SECRET_KEY,\n",
    "    region_name='us-east-1'\n",
    ")\n",
    "\n",
    "# Extract the original ZIP\n",
    "with zipfile.ZipFile(zip_file_path, 'r') as zip_ref:\n",
    "    zip_ref.extractall(DATA_DIR)\n",
    "\n",
    "# Fetch tasks from Label Studio API to get task IDs and image URLs\n",
    "response = requests.get(\n",
    "    f\"{LABEL_STUDIO_URL}/api/projects/{PROJECT_ID}/export?exportType=JSON\",\n",
    "    headers={\"Authorization\": f\"Token {LABEL_STUDIO_TOKEN}\"}\n",
    ")\n",
    "tasks = response.json()"
   ]
  },
  {
   "cell_type": "code",
   "execution_count": 63,
   "id": "4ea43f6f-068b-4fb6-bdc8-366dfd86436e",
   "metadata": {},
   "outputs": [],
   "source": [
    "from urllib.parse import urlparse\n",
    "# Map task IDs to MinIO keys and store task metadata\n",
    "task_id_to_key = {}\n",
    "task_id_to_uuid = {}\n",
    "for task in tasks:\n",
    "    task_id = str(task.get('id'))  # Convert to string to match YOLO file names\n",
    "    image_url = task.get('data', {}).get('image', '')\n",
    "    if not image_url:\n",
    "        print(f\"Skipping task {task_id}: No image URL found\")\n",
    "        continue\n",
    "    # Parse the MinIO key from the image URL\n",
    "    parsed_url = urlparse(image_url)\n",
    "    key = parsed_url.path.lstrip('/')\n",
    "    if key.startswith(f\"{BUCKET_NAME}/\"):\n",
    "        key = key[len(f\"{BUCKET_NAME}/\"):]\n",
    "    if not key:\n",
    "        print(f\"Skipping task {task_id}: Empty MinIO key\")\n",
    "        continue\n",
    "    task_id_to_key[task_id] = key\n",
    "    # Store the UUID from the image URL or metadata (if available)\n",
    "    # Assuming the UUID is part of the image filename or metadata\n",
    "    uuid = os.path.basename(key).split('.')[0]  # Extract UUID from key (e.g., <uuid>.jpg)\n",
    "    task_id_to_uuid[task_id] = uuid"
   ]
  },
  {
   "cell_type": "code",
   "execution_count": 64,
   "id": "5e4c7608-daea-478f-9f42-b6a251952471",
   "metadata": {},
   "outputs": [],
   "source": [
    "# # Load notes.json to verify metadata (optional)\n",
    "\n",
    "    \n",
    "# notes_path = Path(OUTPUT_DIR) / \"notes.json\"\n",
    "\n",
    "# notes = {}\n",
    "# if notes_path.exists():\n",
    "#     with open(notes_path, 'r') as f:\n",
    "#         notes = json.load(f)\n",
    "#     # If notes.json contains task data, use it to refine the mapping\n",
    "#     for task in notes.get('tasks', []):\n",
    "#         task_id = str(task.get('id'))\n",
    "#         uuid = task.get('uuid') or os.path.basename(task.get('data', {}).get('image', '')).split('.')[0]\n",
    "#         if task_id in task_id_to_key and uuid:\n",
    "#             task_id_to_uuid[task_id] = uuid\n",
    "\n",
    "# # Download images and rename label files\n",
    "# images_dir = Path(DATA_DIR) / \"images\"\n",
    "# labels_dir = Path(DATA_DIR) / \"labels\"\n",
    "# images_dir.mkdir(exist_ok=True)\n",
    "# labels_dir.mkdir(exist_ok=True)\n",
    "\n",
    "# for task_id, key in task_id_to_key.items():\n",
    "#     try:\n",
    "#         # Get the file extension from the key\n",
    "#         ext = os.path.splitext(key)[1] or '.jpg'  # Default to .jpg if no extension\n",
    "#         # Name images after task ID (e.g., <task-id>.jpg)\n",
    "#         local_image_path = images_dir / f\"{task_id}{ext}\"\n",
    "#         # Download the image from MinIO\n",
    "#         s3.download_file(BUCKET_NAME, key, str(local_image_path))\n",
    "#         print(f\"Downloaded image {key} to {local_image_path}\")\n",
    "\n",
    "#         # Rename the corresponding label file\n",
    "#         uuid = task_id_to_uuid.get(task_id)\n",
    "#         if uuid:\n",
    "#             old_label_path = labels_dir / f\"{uuid}.txt\"\n",
    "#             new_label_path = labels_dir / f\"{task_id}.txt\"\n",
    "#             if old_label_path.exists():\n",
    "#                 shutil.move(old_label_path, new_label_path)\n",
    "#                 print(f\"Renamed label {old_label_path} to {new_label_path}\")\n",
    "#             else:\n",
    "#                 print(f\"Label file {old_label_path} not found\")\n",
    "#     except Exception as e:\n",
    "#         print(f\"Failed to process task {task_id}: {e}\")\n",
    "\n",
    "# # Create a new ZIP with the updated images and labels\n",
    "# new_zip_path = os.path.join(OUTPUT_DIR, \"export_with_images_matched.zip\")\n",
    "# with zipfile.ZipFile(new_zip_path, 'w', zipfile.ZIP_DEFLATED) as new_zip:\n",
    "#     # Add all files from the temporary directory\n",
    "#     for root, _, files in os.walk(DATA_DIR):\n",
    "#         for file in files:\n",
    "#             file_path = os.path.join(root, file)\n",
    "#             arcname = os.path.relpath(file_path, DATA_DIR)\n",
    "#             new_zip.write(file_path, arcname)\n",
    "\n",
    "# print(f\"New ZIP with matched images and labels created at {new_zip_path}\")"
   ]
  },
  {
   "cell_type": "markdown",
   "id": "9564c560-d02d-4cfe-bb14-81b35332fd77",
   "metadata": {},
   "source": [
    "## Delete exported tasks"
   ]
  },
  {
   "cell_type": "code",
   "execution_count": 66,
   "id": "26bdff66-c974-44cb-ae9c-96fb53a42b89",
   "metadata": {},
   "outputs": [
    {
     "name": "stdout",
     "output_type": "stream",
     "text": [
      "Successfully deleted tasks: ['152', '153', '154', '155']\n"
     ]
    }
   ],
   "source": [
    "# Delete exported tasks from Label Studio\n",
    "try:\n",
    "    task_ids_to_delete = list(task_id_to_key.keys())\n",
    "    if task_ids_to_delete:\n",
    "        project.delete_tasks(task_ids=task_ids_to_delete)\n",
    "        print(f\"Successfully deleted tasks: {task_ids_to_delete}\")\n",
    "    else:\n",
    "        print(\"No tasks to delete\")\n",
    "except Exception as e:\n",
    "    print(f\"Failed to delete tasks: {e}\")\n",
    "\n",
    "# # Clean up temporary directory\n",
    "# shutil.rmtree(TEMP_DIR)"
   ]
  },
  {
   "cell_type": "code",
   "execution_count": null,
   "id": "9c725d09-ea48-4617-955c-7fe168e78b3e",
   "metadata": {},
   "outputs": [],
   "source": []
  }
 ],
 "metadata": {
  "kernelspec": {
   "display_name": "Python 3 (ipykernel)",
   "language": "python",
   "name": "python3"
  },
  "language_info": {
   "codemirror_mode": {
    "name": "ipython",
    "version": 3
   },
   "file_extension": ".py",
   "mimetype": "text/x-python",
   "name": "python",
   "nbconvert_exporter": "python",
   "pygments_lexer": "ipython3",
   "version": "3.12.10"
  }
 },
 "nbformat": 4,
 "nbformat_minor": 5
}
