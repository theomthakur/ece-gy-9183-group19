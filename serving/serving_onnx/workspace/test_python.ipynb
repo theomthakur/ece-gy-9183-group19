{
 "cells": [
  {
   "cell_type": "code",
   "execution_count": null,
   "id": "8da8a043",
   "metadata": {
    "vscode": {
     "languageId": "plaintext"
    }
   },
   "outputs": [],
   "source": [
    "\"\"\"\n",
    "Test script for connecting to Triton server and running inference with YOLOV11\n",
    "\"\"\"\n",
    "\n",
    "import time\n",
    "import numpy as np\n",
    "from PIL import Image\n",
    "import requests\n",
    "from ultralytics import YOLO\n",
    "\n",
    "# Constants\n",
    "TRITON_SERVER_URL = \"triton_server:8000\"\n",
    "MODEL_NAME = \"chest_xray_detector\"\n",
    "TEST_IMAGE_PATH = \"/path/to/test_image.jpg\"  # Update with your test image path"
   ]
  },
  {
   "cell_type": "code",
   "execution_count": null,
   "id": "06c6c7a2",
   "metadata": {
    "vscode": {
     "languageId": "plaintext"
    }
   },
   "outputs": [],
   "source": [
    "def check_server_status():\n",
    "    \"\"\"Check if Triton server is running and model is ready\"\"\"\n",
    "    try:\n",
    "        # Check server health\n",
    "        health_url = f\"http://{TRITON_SERVER_URL}/v2/health/ready\"\n",
    "        response = requests.get(health_url)\n",
    "        if response.status_code == 200:\n",
    "            print(\"✅ Triton server is ready\")\n",
    "            \n",
    "            # Check model status\n",
    "            model_url = f\"http://{TRITON_SERVER_URL}/v2/models/{MODEL_NAME}\"\n",
    "            model_response = requests.get(model_url)\n",
    "            if model_response.status_code == 200:\n",
    "                print(f\"✅ Model '{MODEL_NAME}' is available\")\n",
    "                return True\n",
    "            else:\n",
    "                print(f\"❌ Model '{MODEL_NAME}' not found or not ready\")\n",
    "                return False\n",
    "        else:\n",
    "            print(\"❌ Triton server is not ready\")\n",
    "            return False\n",
    "    except Exception as e:\n",
    "        print(f\"Error connecting to server: {e}\")\n",
    "        return False\n",
    "\n",
    "def test_ultralytics_triton():\n",
    "    \"\"\"Test using the Ultralytics YOLO with Triton\"\"\"\n",
    "    print(\"\\nTesting Ultralytics YOLO with Triton...\")\n",
    "    \n",
    "    try:\n",
    "        # Load the Triton Server model - exactly as shown in the documentation\n",
    "        model = YOLO(f\"http://{TRITON_SERVER_URL}/{MODEL_NAME}\", task=\"detect\")\n",
    "        print(\"Model loaded successfully\")\n",
    "        \n",
    "        # Run inference on a test image\n",
    "        if TEST_IMAGE_PATH and TEST_IMAGE_PATH != \"/path/to/test_image.jpg\":\n",
    "            start_time = time.time()\n",
    "            results = model(TEST_IMAGE_PATH)\n",
    "            inference_time = time.time() - start_time\n",
    "            \n",
    "            print(f\"Inference completed in {inference_time:.4f} seconds\")\n",
    "            \n",
    "            # Display results\n",
    "            for i, result in enumerate(results):\n",
    "                boxes = result.boxes\n",
    "                print(f\"Found {len(boxes)} detections:\")\n",
    "                \n",
    "                for j, box in enumerate(boxes):\n",
    "                    cls = int(box.cls[0])\n",
    "                    cls_name = result.names[cls] if cls in result.names else f\"Class {cls}\"\n",
    "                    conf = float(box.conf[0])\n",
    "                    print(f\"  Detection {j+1}: {cls_name} (Confidence: {conf:.3f})\")\n",
    "        else:\n",
    "            print(\"No test image path provided. Skipping inference test.\")\n",
    "    \n",
    "    except Exception as e:\n",
    "        print(f\"Error during testing: {e}\")\n",
    "        print(\"\\nTroubleshooting tips:\")\n",
    "        print(\"1. Check that Triton server is running (try the check_server_status function)\")\n",
    "        print(\"2. Verify that the model name is correct\")\n",
    "        print(\"3. Make sure the model is properly loaded in Triton (check server logs)\")\n",
    "        print(\"4. Ensure the test image path is correct\")\n"
   ]
  },
  {
   "cell_type": "code",
   "execution_count": null,
   "id": "45601cee",
   "metadata": {
    "vscode": {
     "languageId": "plaintext"
    }
   },
   "outputs": [],
   "source": [
    "# Check server status\n",
    "if check_server_status():\n",
    "    # Run test with Ultralytics\n",
    "    test_ultralytics_triton()\n",
    "else:\n",
    "    print(\"Server check failed. Please ensure Triton server is running.\")"
   ]
  }
 ],
 "metadata": {
  "language_info": {
   "name": "python"
  }
 },
 "nbformat": 4,
 "nbformat_minor": 5
}
