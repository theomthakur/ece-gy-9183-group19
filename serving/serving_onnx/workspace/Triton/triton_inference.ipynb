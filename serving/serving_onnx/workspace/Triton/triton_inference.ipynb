{
 "cells": [
  {
   "cell_type": "code",
   "execution_count": 1,
   "id": "15581d89-dca2-4765-af71-18cda275d669",
   "metadata": {},
   "outputs": [
    {
     "name": "stdout",
     "output_type": "stream",
     "text": [
      "--2025-05-10 20:34:44--  https://images.unsplash.com/photo-1533473359331-0135ef1b58bf?q=80&w=2670&auto=format&fit=crop&ixlib=rb-4.0.3&ixid=M3wxMjA3fDB8MHxwaG90by1wYWdlfHx8fGVufDB8fHx8fA%3D%3D\n",
      "Resolving images.unsplash.com (images.unsplash.com)... 151.101.182.208, 2a04:4e42:2b::720\n",
      "Connecting to images.unsplash.com (images.unsplash.com)|151.101.182.208|:443... connected.\n",
      "HTTP request sent, awaiting response... 200 OK\n",
      "Length: 794302 (776K) [image/jpeg]\n",
      "Saving to: ‘car_image.jpg’\n",
      "\n",
      "car_image.jpg       100%[===================>] 775.69K  --.-KB/s    in 0.07s   \n",
      "\n",
      "2025-05-10 20:34:45 (10.2 MB/s) - ‘car_image.jpg’ saved [794302/794302]\n",
      "\n"
     ]
    }
   ],
   "source": [
    "!wget \"https://images.unsplash.com/photo-1533473359331-0135ef1b58bf?q=80&w=2670&auto=format&fit=crop&ixlib=rb-4.0.3&ixid=M3wxMjA3fDB8MHxwaG90by1wYWdlfHx8fGVufDB8fHx8fA%3D%3D\" -O car_image.jpg"
   ]
  },
  {
   "cell_type": "code",
   "execution_count": 2,
   "id": "adccb491-6768-4bf5-a768-4703dfc06a04",
   "metadata": {},
   "outputs": [],
   "source": [
    "# !wget \"https://raw.githubusercontent.com/teaching-on-testbeds/serve-system-chi/refs/heads/main/workspace/input.json\" -O input.json"
   ]
  },
  {
   "cell_type": "code",
   "execution_count": 12,
   "id": "e16d3e85-35ce-4920-b829-d0e4c7d8fdf8",
   "metadata": {},
   "outputs": [],
   "source": [
    "import time\n",
    "import numpy as np\n",
    "from PIL import Image\n",
    "import requests\n",
    "from ultralytics import YOLO\n",
    "\n",
    "# Constants\n",
    "TRITON_SERVER_URL = \"triton_server:8000\"\n",
    "MODEL_NAME = \"chest_xray_detector\"\n",
    "TEST_IMAGE_PATH = \"./car_image.jpg\"  # Update with your test image path"
   ]
  },
  {
   "cell_type": "code",
   "execution_count": 13,
   "id": "625c603e-7a3d-4f9b-89ab-8f6c373c3a6a",
   "metadata": {},
   "outputs": [
    {
     "name": "stdout",
     "output_type": "stream",
     "text": [
      "✅ Triton server is ready\n",
      "✅ Model 'chest_xray_detector' is available\n"
     ]
    },
    {
     "data": {
      "text/plain": [
       "True"
      ]
     },
     "execution_count": 13,
     "metadata": {},
     "output_type": "execute_result"
    }
   ],
   "source": [
    "check_server_status()"
   ]
  },
  {
   "cell_type": "code",
   "execution_count": 2,
   "id": "c4b359c0-7392-4de0-b6a5-4eb8f1748d17",
   "metadata": {},
   "outputs": [],
   "source": [
    "# model = YOLO(f\"http://{TRITON_SERVER_URL}/{MODEL_NAME}\", task=\"detect\")\n",
    "# model.names"
   ]
  },
  {
   "cell_type": "code",
   "execution_count": 3,
   "id": "ab760358-115d-486f-b1ed-0df0d44a0047",
   "metadata": {},
   "outputs": [],
   "source": [
    "def check_server_status():\n",
    "    \"\"\"Check if Triton server is running and model is ready\"\"\"\n",
    "    try:\n",
    "        # Check server health\n",
    "        health_url = f\"http://{TRITON_SERVER_URL}/v2/health/ready\"\n",
    "        response = requests.get(health_url)\n",
    "        if response.status_code == 200:\n",
    "            print(\"✅ Triton server is ready\")\n",
    "            \n",
    "            # Check model status\n",
    "            model_url = f\"http://{TRITON_SERVER_URL}/v2/models/{MODEL_NAME}\"\n",
    "            model_response = requests.get(model_url)\n",
    "            if model_response.status_code == 200:\n",
    "                print(f\"✅ Model '{MODEL_NAME}' is available\")\n",
    "                return True\n",
    "            else:\n",
    "                print(f\"❌ Model '{MODEL_NAME}' not found or not ready\")\n",
    "                return False\n",
    "        else:\n",
    "            print(\"❌ Triton server is not ready\")\n",
    "            return False\n",
    "    except Exception as e:\n",
    "        print(f\"Error connecting to server: {e}\")\n",
    "        return False\n",
    "\n",
    "def test_ultralytics_triton():\n",
    "    \"\"\"Test using the Ultralytics YOLO with Triton\"\"\"\n",
    "    print(\"\\nTesting Ultralytics YOLO with Triton...\")\n",
    "    \n",
    "    try:\n",
    "        # Load the Triton Server model - exactly as shown in the documentation\n",
    "        model = YOLO(f\"http://{TRITON_SERVER_URL}/{MODEL_NAME}\", task=\"detect\")\n",
    "        print(\"Model loaded successfully\")\n",
    "        \n",
    "        # Run inference on a test image\n",
    "        if TEST_IMAGE_PATH and TEST_IMAGE_PATH != \"/path/to/test_image.jpg\":\n",
    "            start_time = time.time()\n",
    "            results = model(TEST_IMAGE_PATH)\n",
    "            inference_time = time.time() - start_time\n",
    "            \n",
    "            print(f\"Inference completed in {inference_time:.4f} seconds\")\n",
    "            \n",
    "            # Display results\n",
    "            for i, result in enumerate(results):\n",
    "                boxes = result.boxes\n",
    "                print(f\"Found {len(boxes)} detections:\")\n",
    "                \n",
    "                for j, box in enumerate(boxes):\n",
    "                    cls = int(box.cls[0])\n",
    "                    cls_name = result.names[cls] if cls in result.names else f\"Class {cls}\"\n",
    "                    conf = float(box.conf[0])\n",
    "                    print(f\"  Detection {j+1}: {cls_name} (Confidence: {conf:.3f})\")\n",
    "        else:\n",
    "            print(\"No test image path provided. Skipping inference test.\")\n",
    "    \n",
    "    except Exception as e:\n",
    "        print(f\"Error during testing: {e}\")\n",
    "        print(\"\\nTroubleshooting tips:\")\n",
    "        print(\"1. Check that Triton server is running (try the check_server_status function)\")\n",
    "        print(\"2. Verify that the model name is correct\")\n",
    "        print(\"3. Make sure the model is properly loaded in Triton (check server logs)\")\n",
    "        print(\"4. Ensure the test image path is correct\")"
   ]
  },
  {
   "cell_type": "code",
   "execution_count": 4,
   "id": "25ae3aee-e36d-4f3c-81d1-18688a670fb1",
   "metadata": {},
   "outputs": [
    {
     "name": "stdout",
     "output_type": "stream",
     "text": [
      "Error connecting to server: HTTPConnectionPool(host='http', port=80): Max retries exceeded with url: /129.114.26.168:8000/v2/health/ready (Caused by NameResolutionError(\"<urllib3.connection.HTTPConnection object at 0x701f94078800>: Failed to resolve 'http' ([Errno -3] Temporary failure in name resolution)\"))\n"
     ]
    },
    {
     "data": {
      "text/plain": [
       "False"
      ]
     },
     "execution_count": 4,
     "metadata": {},
     "output_type": "execute_result"
    }
   ],
   "source": [
    "check_server_status()"
   ]
  },
  {
   "cell_type": "code",
   "execution_count": 5,
   "id": "d10d0f58-244f-4600-a771-61f22ff1fd54",
   "metadata": {},
   "outputs": [
    {
     "name": "stdout",
     "output_type": "stream",
     "text": [
      "✅ Triton server is ready\n",
      "✅ Model 'chest_xray_detector' is available\n",
      "\n",
      "Testing Ultralytics YOLO with Triton...\n",
      "Model loaded successfully\n",
      "\n",
      "image 1/1 /home/jovyan/workspace/car_image.jpg: 640x640 (no detections), 83.4ms\n",
      "Speed: 6.1ms preprocess, 83.4ms inference, 1.9ms postprocess per image at shape (1, 3, 640, 640)\n",
      "Inference completed in 2.9670 seconds\n",
      "Found 0 detections:\n"
     ]
    }
   ],
   "source": [
    "# Check server status\n",
    "if check_server_status():\n",
    "    # Run test with Ultralytics\n",
    "    test_ultralytics_triton()\n",
    "else:\n",
    "    print(\"Server check failed. Please ensure Triton server is running.\")"
   ]
  },
  {
   "cell_type": "code",
   "execution_count": 19,
   "id": "38d49ef4-9389-4a43-9412-6017094ff142",
   "metadata": {},
   "outputs": [],
   "source": [
    "import concurrent.futures\n",
    "import time\n",
    "\n",
    "def run_inference(image_path):\n",
    "    try:\n",
    "        model = YOLO(f\"http://{TRITON_SERVER_URL}/{MODEL_NAME}\", task=\"detect\")\n",
    "        results = model(image_path)\n",
    "        return True\n",
    "    except Exception as e:\n",
    "        print(f\"Inference error: {e}\")\n",
    "        return False\n",
    "\n",
    "def stress_test(num_requests=100, concurrency=10):\n",
    "    print(f\"Starting stress test: {num_requests} requests with concurrency {concurrency}\")\n",
    "    start_time = time.time()\n",
    "    \n",
    "    success_count = 0\n",
    "    total_time = 0\n",
    "    \n",
    "    with concurrent.futures.ThreadPoolExecutor(max_workers=concurrency) as executor:\n",
    "        futures = [executor.submit(run_inference, TEST_IMAGE_PATH) for _ in range(num_requests)]\n",
    "        for future in concurrent.futures.as_completed(futures):\n",
    "            result = future.result()\n",
    "            success_count += int(result)\n",
    "    \n",
    "    total_duration = time.time() - start_time\n",
    "    print(\"\\n=== Stress Test Results ===\")\n",
    "    print(f\"Total requests: {num_requests}\")\n",
    "    print(f\"Successful responses: {success_count}\")\n",
    "    print(f\"Total duration: {total_duration:.2f} seconds\")\n",
    "    print(f\"Average requests/sec: {num_requests/total_duration:.2f}\")\n",
    "\n"
   ]
  },
  {
   "cell_type": "code",
   "execution_count": 20,
   "id": "9cda94e5-755f-4b77-b214-eea28773524c",
   "metadata": {
    "scrolled": true
   },
   "outputs": [
    {
     "name": "stdout",
     "output_type": "stream",
     "text": [
      "Starting stress test: 50 requests with concurrency 8\n",
      "\n",
      "\n",
      "\n",
      "\n",
      "\n",
      "\n",
      "\n",
      "\n",
      "image 1/1 /home/jovyan/workspace/car_image.jpg: 640x640 1 class7, 14760.0ms\n",
      "Speed: 11.0ms preprocess, 14760.0ms inference, 1.8ms postprocess per image at shape (1, 3, 640, 640)\n",
      "\n",
      "image 1/1 /home/jovyan/workspace/car_image.jpg: 640x640 1 class7, 14524.5ms\n",
      "Speed: 4.9ms preprocess, 14524.5ms inference, 4.5ms postprocess per image at shape (1, 3, 640, 640)\n",
      "\n",
      "image 1/1 /home/jovyan/workspace/car_image.jpg: 640x640 1 class7, 14662.2ms\n",
      "Speed: 4.3ms preprocess, 14662.2ms inference, 1.5ms postprocess per image at shape (1, 3, 640, 640)\n",
      "\n",
      "image 1/1 /home/jovyan/workspace/car_image.jpg: 640x640 1 class7, 14617.1ms\n",
      "Speed: 7.6ms preprocess, 14617.1ms inference, 4.2ms postprocess per image at shape (1, 3, 640, 640)\n",
      "\n",
      "image 1/1 /home/jovyan/workspace/car_image.jpg: 640x640 1 class7, 14971.3ms\n",
      "Speed: 7.5ms preprocess, 14971.3ms inference, 2.2ms postprocess per image at shape (1, 3, 640, 640)\n",
      "\n",
      "image 1/1 /home/jovyan/workspace/car_image.jpg: 640x640 1 class7, 15076.2ms\n",
      "Speed: 6.1ms preprocess, 15076.2ms inference, 4.9ms postprocess per image at shape (1, 3, 640, 640)\n",
      "\n",
      "image 1/1 /home/jovyan/workspace/car_image.jpg: 640x640 1 class7, 15118.4ms\n",
      "Speed: 6.5ms preprocess, 15118.4ms inference, 2.1ms postprocess per image at shape (1, 3, 640, 640)\n",
      "\n",
      "image 1/1 /home/jovyan/workspace/car_image.jpg: 640x640 1 class7, 15140.6ms\n",
      "Speed: 8.0ms preprocess, 15140.6ms inference, 1.9ms postprocess per image at shape (1, 3, 640, 640)\n",
      "\n",
      "image 1/1 /home/jovyan/workspace/car_image.jpg: 640x640 1 class7, 15730.5ms\n",
      "Speed: 4.6ms preprocess, 15730.5ms inference, 2.8ms postprocess per image at shape (1, 3, 640, 640)\n",
      "\n",
      "image 1/1 /home/jovyan/workspace/car_image.jpg: 640x640 1 class7, 15681.7ms\n",
      "Speed: 4.5ms preprocess, 15681.7ms inference, 2.7ms postprocess per image at shape (1, 3, 640, 640)\n",
      "\n",
      "image 1/1 /home/jovyan/workspace/car_image.jpg: 640x640 1 class7, 15281.8ms\n",
      "Speed: 4.2ms preprocess, 15281.8ms inference, 2.7ms postprocess per image at shape (1, 3, 640, 640)\n",
      "\n",
      "image 1/1 /home/jovyan/workspace/car_image.jpg: 640x640 1 class7, 15247.4ms\n",
      "Speed: 9.2ms preprocess, 15247.4ms inference, 1.8ms postprocess per image at shape (1, 3, 640, 640)\n",
      "\n",
      "image 1/1 /home/jovyan/workspace/car_image.jpg: 640x640 1 class7, 14067.7ms\n",
      "Speed: 6.1ms preprocess, 14067.7ms inference, 1.4ms postprocess per image at shape (1, 3, 640, 640)\n",
      "\n",
      "image 1/1 /home/jovyan/workspace/car_image.jpg: 640x640 1 class7, 12837.8ms\n",
      "Speed: 6.1ms preprocess, 12837.8ms inference, 3.3ms postprocess per image at shape (1, 3, 640, 640)\n",
      "\n",
      "image 1/1 /home/jovyan/workspace/car_image.jpg: 640x640 1 class7, 11672.6ms\n",
      "Speed: 7.2ms preprocess, 11672.6ms inference, 4.3ms postprocess per image at shape (1, 3, 640, 640)\n",
      "\n",
      "image 1/1 /home/jovyan/workspace/car_image.jpg: 640x640 1 class7, 11017.0ms\n",
      "Speed: 4.1ms preprocess, 11017.0ms inference, 1.6ms postprocess per image at shape (1, 3, 640, 640)\n",
      "\n",
      "image 1/1 /home/jovyan/workspace/car_image.jpg: 640x640 1 class7, 8414.2ms\n",
      "Speed: 7.1ms preprocess, 8414.2ms inference, 1.8ms postprocess per image at shape (1, 3, 640, 640)\n",
      "\n",
      "image 1/1 /home/jovyan/workspace/car_image.jpg: 640x640 1 class7, 8440.6ms\n",
      "Speed: 8.7ms preprocess, 8440.6ms inference, 1.4ms postprocess per image at shape (1, 3, 640, 640)\n",
      "\n",
      "image 1/1 /home/jovyan/workspace/car_image.jpg: 640x640 1 class7, 8040.0ms\n",
      "Speed: 4.6ms preprocess, 8040.0ms inference, 3.1ms postprocess per image at shape (1, 3, 640, 640)\n",
      "\n",
      "image 1/1 /home/jovyan/workspace/car_image.jpg: 640x640 1 class7, 8033.9ms\n",
      "Speed: 8.4ms preprocess, 8033.9ms inference, 5.7ms postprocess per image at shape (1, 3, 640, 640)\n",
      "\n",
      "image 1/1 /home/jovyan/workspace/car_image.jpg: 640x640 1 class7, 8114.9ms\n",
      "Speed: 8.1ms preprocess, 8114.9ms inference, 1.4ms postprocess per image at shape (1, 3, 640, 640)\n",
      "\n",
      "image 1/1 /home/jovyan/workspace/car_image.jpg: 640x640 1 class7, 8048.2ms\n",
      "Speed: 6.3ms preprocess, 8048.2ms inference, 1.6ms postprocess per image at shape (1, 3, 640, 640)\n",
      "\n",
      "image 1/1 /home/jovyan/workspace/car_image.jpg: 640x640 1 class7, 7968.7ms\n",
      "Speed: 4.3ms preprocess, 7968.7ms inference, 1.5ms postprocess per image at shape (1, 3, 640, 640)\n",
      "\n",
      "image 1/1 /home/jovyan/workspace/car_image.jpg: 640x640 1 class7, 8417.8ms\n",
      "Speed: 5.9ms preprocess, 8417.8ms inference, 1.5ms postprocess per image at shape (1, 3, 640, 640)\n",
      "\n",
      "image 1/1 /home/jovyan/workspace/car_image.jpg: 640x640 1 class7, 8467.5ms\n",
      "Speed: 4.6ms preprocess, 8467.5ms inference, 1.5ms postprocess per image at shape (1, 3, 640, 640)\n",
      "\n",
      "image 1/1 /home/jovyan/workspace/car_image.jpg: 640x640 1 class7, 8499.1ms\n",
      "Speed: 6.0ms preprocess, 8499.1ms inference, 1.6ms postprocess per image at shape (1, 3, 640, 640)\n",
      "\n",
      "image 1/1 /home/jovyan/workspace/car_image.jpg: 640x640 1 class7, 8582.9ms\n",
      "Speed: 9.4ms preprocess, 8582.9ms inference, 2.0ms postprocess per image at shape (1, 3, 640, 640)\n",
      "\n",
      "image 1/1 /home/jovyan/workspace/car_image.jpg: 640x640 1 class7, 8169.3ms\n",
      "Speed: 3.8ms preprocess, 8169.3ms inference, 1.5ms postprocess per image at shape (1, 3, 640, 640)\n",
      "\n",
      "image 1/1 /home/jovyan/workspace/car_image.jpg: 640x640 1 class7, 8005.7ms\n",
      "Speed: 4.4ms preprocess, 8005.7ms inference, 1.4ms postprocess per image at shape (1, 3, 640, 640)\n",
      "\n",
      "image 1/1 /home/jovyan/workspace/car_image.jpg: 640x640 1 class7, 8245.3ms\n",
      "Speed: 4.9ms preprocess, 8245.3ms inference, 1.5ms postprocess per image at shape (1, 3, 640, 640)\n",
      "\n",
      "image 1/1 /home/jovyan/workspace/car_image.jpg: 640x640 1 class7, 7815.0ms\n",
      "Speed: 4.1ms preprocess, 7815.0ms inference, 2.3ms postprocess per image at shape (1, 3, 640, 640)\n",
      "\n",
      "image 1/1 /home/jovyan/workspace/car_image.jpg: 640x640 1 class7, 7822.3ms\n",
      "Speed: 5.6ms preprocess, 7822.3ms inference, 1.7ms postprocess per image at shape (1, 3, 640, 640)\n",
      "\n",
      "image 1/1 /home/jovyan/workspace/car_image.jpg: 640x640 1 class7, 8468.2ms\n",
      "Speed: 4.3ms preprocess, 8468.2ms inference, 1.5ms postprocess per image at shape (1, 3, 640, 640)\n",
      "\n",
      "image 1/1 /home/jovyan/workspace/car_image.jpg: 640x640 1 class7, 8003.8ms\n",
      "Speed: 5.4ms preprocess, 8003.8ms inference, 1.4ms postprocess per image at shape (1, 3, 640, 640)\n",
      "\n",
      "image 1/1 /home/jovyan/workspace/car_image.jpg: 640x640 1 class7, 7940.9ms\n",
      "Speed: 6.4ms preprocess, 7940.9ms inference, 1.6ms postprocess per image at shape (1, 3, 640, 640)\n",
      "\n",
      "image 1/1 /home/jovyan/workspace/car_image.jpg: 640x640 1 class7, 8087.2ms\n",
      "Speed: 6.7ms preprocess, 8087.2ms inference, 1.9ms postprocess per image at shape (1, 3, 640, 640)\n",
      "\n",
      "image 1/1 /home/jovyan/workspace/car_image.jpg: 640x640 1 class7, 7984.9ms\n",
      "Speed: 6.8ms preprocess, 7984.9ms inference, 5.9ms postprocess per image at shape (1, 3, 640, 640)\n",
      "\n",
      "image 1/1 /home/jovyan/workspace/car_image.jpg: 640x640 1 class7, 7969.5ms\n",
      "Speed: 4.8ms preprocess, 7969.5ms inference, 2.3ms postprocess per image at shape (1, 3, 640, 640)\n",
      "\n",
      "image 1/1 /home/jovyan/workspace/car_image.jpg: 640x640 1 class7, 8299.2ms\n",
      "Speed: 3.9ms preprocess, 8299.2ms inference, 1.6ms postprocess per image at shape (1, 3, 640, 640)\n",
      "\n",
      "image 1/1 /home/jovyan/workspace/car_image.jpg: 640x640 1 class7, 8020.3ms\n",
      "Speed: 6.7ms preprocess, 8020.3ms inference, 1.8ms postprocess per image at shape (1, 3, 640, 640)\n",
      "\n",
      "image 1/1 /home/jovyan/workspace/car_image.jpg: 640x640 1 class7, 8075.1ms\n",
      "Speed: 7.9ms preprocess, 8075.1ms inference, 2.0ms postprocess per image at shape (1, 3, 640, 640)\n",
      "\n",
      "image 1/1 /home/jovyan/workspace/car_image.jpg: 640x640 1 class7, 8396.0ms\n",
      "Speed: 4.3ms preprocess, 8396.0ms inference, 6.3ms postprocess per image at shape (1, 3, 640, 640)\n",
      "\n",
      "image 1/1 /home/jovyan/workspace/car_image.jpg: 640x640 1 class7, 8646.9ms\n",
      "Speed: 7.1ms preprocess, 8646.9ms inference, 2.2ms postprocess per image at shape (1, 3, 640, 640)\n",
      "image 1/1 /home/jovyan/workspace/car_image.jpg: 640x640 1 class7, 8829.4ms\n",
      "Speed: 5.6ms preprocess, 8829.4ms inference, 1.9ms postprocess per image at shape (1, 3, 640, 640)\n",
      "image 1/1 /home/jovyan/workspace/car_image.jpg: 640x640 1 class7, 8981.1ms\n",
      "Speed: 7.5ms preprocess, 8981.1ms inference, 3.2ms postprocess per image at shape (1, 3, 640, 640)\n",
      "image 1/1 /home/jovyan/workspace/car_image.jpg: 640x640 1 class7, 8650.6ms\n",
      "Speed: 6.1ms preprocess, 8650.6ms inference, 1.6ms postprocess per image at shape (1, 3, 640, 640)\n",
      "image 1/1 /home/jovyan/workspace/car_image.jpg: 640x640 1 class7, 8573.7ms\n",
      "Speed: 7.4ms preprocess, 8573.7ms inference, 1.8ms postprocess per image at shape (1, 3, 640, 640)\n",
      "image 1/1 /home/jovyan/workspace/car_image.jpg: 640x640 1 class7, 8839.5ms\n",
      "Speed: 6.8ms preprocess, 8839.5ms inference, 3.8ms postprocess per image at shape (1, 3, 640, 640)\n",
      "image 1/1 /home/jovyan/workspace/car_image.jpg: 640x640 1 class7, 2823.6ms\n",
      "Speed: 4.4ms preprocess, 2823.6ms inference, 1.9ms postprocess per image at shape (1, 3, 640, 640)\n",
      "image 1/1 /home/jovyan/workspace/car_image.jpg: 640x640 1 class7, 2183.8ms\n",
      "Speed: 3.9ms preprocess, 2183.8ms inference, 1.5ms postprocess per image at shape (1, 3, 640, 640)\n",
      "\n",
      "=== Stress Test Results ===\n",
      "Total requests: 50\n",
      "Successful responses: 50\n",
      "Total duration: 130.02 seconds\n",
      "Average requests/sec: 0.38\n"
     ]
    }
   ],
   "source": [
    "stress_test(num_requests = 50, concurrency = 8)"
   ]
  },
  {
   "cell_type": "code",
   "execution_count": 21,
   "id": "06075ac6-cdf4-4382-b494-d34714878583",
   "metadata": {},
   "outputs": [
    {
     "name": "stdout",
     "output_type": "stream",
     "text": [
      "{\"name\":\"chest_xray_detector\",\"versions\":[\"1\"],\"platform\":\"openvino\",\"inputs\":[{\"name\":\"images\",\"datatype\":\"FP32\",\"shape\":[-1,3,-1,-1]}],\"outputs\":[{\"name\":\"output0\",\"datatype\":\"FP32\",\"shape\":[-1,84,-1]}]}"
     ]
    }
   ],
   "source": [
    "!curl -X GET http://triton_server:8000/v2/models/chest_xray_detector"
   ]
  },
  {
   "cell_type": "code",
   "execution_count": 22,
   "id": "da56f7d0-acd5-45ee-a620-9e34b2a6a489",
   "metadata": {},
   "outputs": [
    {
     "name": "stdout",
     "output_type": "stream",
     "text": [
      "Successfully created input_fixed.json\n",
      "Resized image dimensions: 640x640\n",
      "Tensor shape: [1, 3, 640, 640]\n",
      "\n",
      "Run perf_analyzer with the following command:\n",
      "perf_analyzer -u triton_server:8000 -m chest_xray_detector --input-data input_fixed.json -b 1 --shape images:3,640,640 --concurrency-range 8\n"
     ]
    }
   ],
   "source": [
    "#!/usr/bin/env python3\n",
    "import json\n",
    "import numpy as np\n",
    "import os\n",
    "from PIL import Image\n",
    "\n",
    "def resize_and_convert(image_path='car_image.jpg', output_file='input_fixed.json'):\n",
    "    \"\"\"\n",
    "    Resizes image to be compatible with the model's expected internal dimensions\n",
    "    and creates a proper input JSON file.\n",
    "    \"\"\"\n",
    "    try:\n",
    "        # Load the image\n",
    "        img = Image.open(image_path)\n",
    "        \n",
    "        # Convert to RGB if not already\n",
    "        if img.mode != 'RGB':\n",
    "            img = img.convert('RGB')\n",
    "        \n",
    "        # Resize to 336x504 (should result in 112x168 when downsampled by factor of 3)\n",
    "        new_width, new_height = 640, 640  \n",
    "        \n",
    "        # Resize image\n",
    "        resized_img = img.resize((new_width, new_height), Image.LANCZOS)\n",
    "        \n",
    "        # Convert to numpy array and normalize to 0-1 range\n",
    "        img_array = np.array(resized_img).astype(np.float32) / 255.0\n",
    "        \n",
    "        # Transpose from HWC to CHW format (height, width, channels) -> (channels, height, width)\n",
    "        img_array = np.transpose(img_array, (2, 0, 1))\n",
    "        \n",
    "        # Flatten the array for JSON serialization\n",
    "        float_data = img_array.flatten().tolist()\n",
    "        \n",
    "        # Create the input JSON\n",
    "        input_data = {\n",
    "            \"data\": [\n",
    "                {\n",
    "                    \"images\": float_data\n",
    "                }\n",
    "            ]\n",
    "        }\n",
    "        \n",
    "        # Write to output file\n",
    "        with open(output_file, 'w') as f:\n",
    "            json.dump(input_data, f)\n",
    "        \n",
    "        print(f\"Successfully created {output_file}\")\n",
    "        print(f\"Resized image dimensions: {new_width}x{new_height}\")\n",
    "        print(f\"Tensor shape: [1, 3, {new_height}, {new_width}]\")\n",
    "        \n",
    "        # Print the command to use with perf_analyzer\n",
    "        print(\"\\nRun perf_analyzer with the following command:\")\n",
    "        print(f\"perf_analyzer -u triton_server:8000 -m chest_xray_detector --input-data {output_file} -b 1 --shape images:3,{new_height},{new_width} --concurrency-range 8\")\n",
    "        \n",
    "        # # Option to create alternative sizes if the first one doesn't work\n",
    "        # alt_sizes = [\n",
    "        #     (344, 512),  # Alternative 1\n",
    "        #     (328, 496),  # Alternative 2\n",
    "        #     (224, 336)   # Smaller alternative\n",
    "        # ]\n",
    "        \n",
    "        # print(\"\\nIf the above dimensions don't work, try these alternatives:\")\n",
    "        # for i, (h, w) in enumerate(alt_sizes, 1):\n",
    "        #     alt_file = f\"input_alt{i}.json\"\n",
    "        #     alt_img = img.resize((w, h), Image.LANCZOS)\n",
    "        #     alt_array = np.transpose(np.array(alt_img).astype(np.float32) / 255.0, (2, 0, 1))\n",
    "        #     alt_data = {\"data\": [{\"images\": alt_array.flatten().tolist()}]}\n",
    "            \n",
    "        #     with open(alt_file, 'w') as f:\n",
    "        #         json.dump(alt_data, f)\n",
    "                \n",
    "        #     print(f\"\\nAlternative {i}: {w}x{h}\")\n",
    "        #     print(f\"Created {alt_file}\")\n",
    "        #     print(f\"perf_analyzer -u triton_server:8000 -m chest_xray_detector --input-data {alt_file} -b 1 --shape images:1,3,{h},{w} --concurrency-range 8\")\n",
    "        \n",
    "    except FileNotFoundError:\n",
    "        print(f\"Error: The file '{image_path}' was not found.\")\n",
    "    except Exception as e:\n",
    "        print(f\"An error occurred: {str(e)}\")\n",
    "\n",
    "resize_and_convert()\n"
   ]
  },
  {
   "cell_type": "markdown",
   "id": "9a639e10-27e0-442e-860a-38e55880f2ee",
   "metadata": {},
   "source": [
    "# ONNX CPU"
   ]
  },
  {
   "cell_type": "code",
   "execution_count": 16,
   "id": "826d0ead-ab7c-4798-b749-19fdd78a7fb5",
   "metadata": {},
   "outputs": [
    {
     "name": "stdout",
     "output_type": "stream",
     "text": [
      " Successfully read data for 1 stream/streams with 1 step/steps.\n",
      "*** Measurement Settings ***\n",
      "  Batch size: 1\n",
      "  Service Kind: TRITON\n",
      "  Using \"time_windows\" mode for stabilization\n",
      "  Stabilizing using average latency and throughput\n",
      "  Measurement window: 5000 msec\n",
      "  Using synchronous calls for inference\n",
      "\n",
      "Request concurrency: 8\n",
      "  Client: \n",
      "    Request count: 18\n",
      "    Throughput: 0.982708 infer/sec\n",
      "    Avg latency: 8507546 usec (standard deviation 294368 usec)\n",
      "    p50 latency: 8573376 usec\n",
      "    p90 latency: 8888993 usec\n",
      "    p95 latency: 8892924 usec\n",
      "    p99 latency: 8985060 usec\n",
      "    Avg HTTP time: 8507531 usec (send/recv 11054 usec + response wait 8496477 usec)\n",
      "  Server: \n",
      "    Inference count: 18\n",
      "    Execution count: 18\n",
      "    Successful request count: 18\n",
      "    Avg request latency: 8486227 usec (overhead 1548 usec + queue 7431784 usec + compute input 21 usec + compute infer 1052267 usec + compute output 606 usec)\n",
      "Inferences/Second vs. Client Average Batch Latency\n",
      "Concurrency: 8, throughput: 0.982708 infer/sec, latency 8507546 usec\n"
     ]
    }
   ],
   "source": [
    "!perf_analyzer -u triton_server:8000 -m chest_xray_detector --input-data input_fixed.json -b 1 --shape images:3,640,640 --concurrency-range 8"
   ]
  },
  {
   "cell_type": "markdown",
   "id": "d704e351-50d3-4ab6-bf7e-3ee42838d2ee",
   "metadata": {},
   "source": [
    "# OpenVino V1"
   ]
  },
  {
   "cell_type": "code",
   "execution_count": 24,
   "id": "a030cc35-2a69-4270-b07b-b6b6f3dbe1d7",
   "metadata": {},
   "outputs": [
    {
     "name": "stdout",
     "output_type": "stream",
     "text": [
      " Successfully read data for 1 stream/streams with 1 step/steps.\n",
      "*** Measurement Settings ***\n",
      "  Batch size: 1\n",
      "  Service Kind: TRITON\n",
      "  Using \"time_windows\" mode for stabilization\n",
      "  Stabilizing using average latency and throughput\n",
      "  Measurement window: 5000 msec\n",
      "  Using synchronous calls for inference\n",
      "\n",
      "Request concurrency: 8\n",
      "  Client: \n",
      "    Request count: 18\n",
      "    Throughput: 0.981167 infer/sec\n",
      "    Avg latency: 7996215 usec (standard deviation 190596 usec)\n",
      "    p50 latency: 8007274 usec\n",
      "    p90 latency: 8238293 usec\n",
      "    p95 latency: 8291585 usec\n",
      "    p99 latency: 8346757 usec\n",
      "    Avg HTTP time: 7996202 usec (send/recv 9902 usec + response wait 7986300 usec)\n",
      "  Server: \n",
      "    Inference count: 18\n",
      "    Execution count: 18\n",
      "    Successful request count: 18\n",
      "    Avg request latency: 7974768 usec (overhead 166 usec + queue 6978642 usec + compute input 51 usec + compute infer 995291 usec + compute output 617 usec)\n",
      "Inferences/Second vs. Client Average Batch Latency\n",
      "Concurrency: 8, throughput: 0.981167 infer/sec, latency 7996215 usec\n"
     ]
    }
   ],
   "source": [
    "!perf_analyzer -u triton_server:8000 -m chest_xray_detector --input-data input_fixed.json -b 1 --shape images:1,3,640,640 --concurrency-range 8"
   ]
  },
  {
   "cell_type": "markdown",
   "id": "4fbe6e85-ee7e-4815-a51c-827c8024a6d1",
   "metadata": {},
   "source": [
    "# OpenVino Nano"
   ]
  },
  {
   "cell_type": "code",
   "execution_count": 6,
   "id": "fa03d2e6-892e-4f40-bf5c-27772b67cc71",
   "metadata": {},
   "outputs": [
    {
     "name": "stdout",
     "output_type": "stream",
     "text": [
      " Successfully read data for 1 stream/streams with 1 step/steps.\n",
      "*** Measurement Settings ***\n",
      "  Batch size: 1\n",
      "  Service Kind: TRITON\n",
      "  Using \"time_windows\" mode for stabilization\n",
      "  Stabilizing using average latency and throughput\n",
      "  Measurement window: 5000 msec\n",
      "  Using synchronous calls for inference\n",
      "\n",
      "Request concurrency: 8\n",
      "  Client: \n",
      "    Request count: 298\n",
      "    Throughput: 14.6113 infer/sec\n",
      "    Avg latency: 536424 usec (standard deviation 90497 usec)\n",
      "    p50 latency: 488839 usec\n",
      "    p90 latency: 674690 usec\n",
      "    p95 latency: 723728 usec\n",
      "    p99 latency: 809274 usec\n",
      "    Avg HTTP time: 536413 usec (send/recv 4758 usec + response wait 531655 usec)\n",
      "  Server: \n",
      "    Inference count: 298\n",
      "    Execution count: 298\n",
      "    Successful request count: 298\n",
      "    Avg request latency: 521878 usec (overhead 87 usec + queue 453614 usec + compute input 48 usec + compute infer 67937 usec + compute output 190 usec)\n",
      "Inferences/Second vs. Client Average Batch Latency\n",
      "Concurrency: 8, throughput: 14.6113 infer/sec, latency 536424 usec\n"
     ]
    }
   ],
   "source": [
    "!perf_analyzer -u triton_server:8000 -m chest_xray_detector --input-data input_fixed.json -b 1 --shape images:1,3,640,640 --concurrency-range 8"
   ]
  },
  {
   "cell_type": "code",
   "execution_count": null,
   "id": "3b0dc985-00d0-49a1-ad2e-c52a474cb484",
   "metadata": {},
   "outputs": [],
   "source": []
  }
 ],
 "metadata": {
  "kernelspec": {
   "display_name": "Python 3 (ipykernel)",
   "language": "python",
   "name": "python3"
  },
  "language_info": {
   "codemirror_mode": {
    "name": "ipython",
    "version": 3
   },
   "file_extension": ".py",
   "mimetype": "text/x-python",
   "name": "python",
   "nbconvert_exporter": "python",
   "pygments_lexer": "ipython3",
   "version": "3.12.10"
  }
 },
 "nbformat": 4,
 "nbformat_minor": 5
}
